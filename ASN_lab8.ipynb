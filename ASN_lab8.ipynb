{
  "nbformat": 4,
  "nbformat_minor": 0,
  "metadata": {
    "colab": {
      "provenance": [],
      "authorship_tag": "ABX9TyP3UZq5/py1/tCzf2S5/V7J",
      "include_colab_link": true
    },
    "kernelspec": {
      "name": "python3",
      "display_name": "Python 3"
    },
    "language_info": {
      "name": "python"
    }
  },
  "cells": [
    {
      "cell_type": "markdown",
      "metadata": {
        "id": "view-in-github",
        "colab_type": "text"
      },
      "source": [
        "<a href=\"https://colab.research.google.com/github/trilgar/ANS2023/blob/master/ASN_lab8.ipynb\" target=\"_parent\"><img src=\"https://colab.research.google.com/assets/colab-badge.svg\" alt=\"Open In Colab\"/></a>"
      ]
    },
    {
      "cell_type": "markdown",
      "source": [
        "## Мовою Python самостійно розробити програмний модуль підрахунку ваги слів."
      ],
      "metadata": {
        "id": "38SICr0j-v3v"
      }
    },
    {
      "cell_type": "code",
      "source": [
        "def calculate_word_weight(word):\n",
        "    \"\"\"\n",
        "    Функція, яка розраховує вагу слова.\n",
        "    \"\"\"\n",
        "    weights = {\n",
        "        'а': 1, 'б': 3, 'в': 3, 'г': 2, 'ґ': 5,\n",
        "        'д': 2, 'е': 1, 'є': 4, 'ж': 4, 'з': 2,\n",
        "        'и': 1, 'і': 1, 'ї': 6, 'й': 5, 'к': 2,\n",
        "        'л': 3, 'м': 3, 'н': 1, 'о': 1, 'п': 2,\n",
        "        'р': 2, 'с': 2, 'т': 1, 'у': 3, 'ф': 5,\n",
        "        'х': 5, 'ц': 5, 'ч': 6, 'ш': 6, 'щ': 7,\n",
        "        'ь': 3, 'ю': 7, 'я': 5\n",
        "    }\n",
        "\n",
        "    word = word.lower()\n",
        "    weight = 0\n",
        "    for letter in word:\n",
        "        weight += weights.get(letter, 0)\n",
        "    return weight"
      ],
      "metadata": {
        "id": "XhSxhDHD-wOn"
      },
      "execution_count": 1,
      "outputs": []
    },
    {
      "cell_type": "code",
      "source": [
        "word = 'Привіт'\n",
        "weight = calculate_word_weight(word)\n",
        "print(f'Вага слова \"{word}\": {weight}')"
      ],
      "metadata": {
        "colab": {
          "base_uri": "https://localhost:8080/"
        },
        "id": "41KuPC2Q--PT",
        "outputId": "917029c7-d9ea-408f-f4a0-9c263ee3c843"
      },
      "execution_count": 2,
      "outputs": [
        {
          "output_type": "stream",
          "name": "stdout",
          "text": [
            "Вага слова \"Привіт\": 10\n"
          ]
        }
      ]
    },
    {
      "cell_type": "markdown",
      "source": [
        "## Ознайомитись з іншими методами розрахунку ваги слів, зокрема методом TF-IDF"
      ],
      "metadata": {
        "id": "hLu-xHZb_DPj"
      }
    },
    {
      "cell_type": "markdown",
      "source": [
        "Метод TF-IDF (term frequency-inverse document frequency) - це метод визначення ваги слова, який використовується в обробці природньої мови для оцінки важливості слова в документі або корпусі документів.\n",
        "\n",
        "TF-IDF складається з двох частин: TF (частота терміну) та IDF (зворотна частота документа). TF визначає, як часто зустрічається слово в документі, а IDF визначає, наскільки унікальним є це слово в корпусі документів.\n",
        "\n",
        "Загальна формула для розрахунку TF-IDF ваги слова в документі:\n",
        "\n",
        "$(tf-idf)(w, d, D) = tf(w, d) * idf(w, D)$\n",
        "де:\n",
        "\n",
        "w - слово, для якого визначається вага;  \n",
        "d - документ, у якому воно зустрічається;  \n",
        "D - корпус документів;  \n",
        "tf(w, d) - частота терміну (кількість разів, які слово w зустрічається в документі d);  \n",
        "idf(w, D) - зворотна частота документа (логарифм ділення загальної кількості документів у корпусі на кількість документів, у яких зустрічається слово w).  "
      ],
      "metadata": {
        "id": "imrzk5vx_N09"
      }
    },
    {
      "cell_type": "code",
      "source": [
        "import math\n",
        "from collections import Counter\n",
        "\n",
        "def calculate_tf(word, document):\n",
        "    \"\"\"\n",
        "    Функція, яка розраховує частоту терміну (TF).\n",
        "    \"\"\"\n",
        "    words_count = len(document)\n",
        "    word_count = document.count(word)\n",
        "    return word_count / words_count\n",
        "\n",
        "def calculate_idf(word, documents):\n",
        "    \"\"\"\n",
        "    Функція, яка розраховує зворотну частоту документа (IDF).\n",
        "    \"\"\"\n",
        "    documents_count = len(documents)\n",
        "    word_occurrences = sum(1 for doc in documents if word in doc)\n",
        "    return math.log(documents_count / word_occurrences)\n",
        "\n",
        "def calculate_tf_idf(word, document, documents):\n",
        "    \"\"\"\n",
        "    Функція, яка розраховує вагу слова за допомогою методу TF-IDF.\n",
        "    \"\"\"\n",
        "    tf = calculate_tf(word, document)\n",
        "    idf = calculate_idf(word, documents)\n",
        "    return tf * idf"
      ],
      "metadata": {
        "id": "Zv3rz_rj_Ik8"
      },
      "execution_count": 4,
      "outputs": []
    },
    {
      "cell_type": "code",
      "source": [
        "# Список документів\n",
        "docs = [\n",
        "    'Це перший документ.',\n",
        "    'Це другий документ.',\n",
        "    'Це третій документ.',\n",
        "    'Це четвертий документ.',\n",
        "    'Це п\\'ятий документ.'\n",
        "]\n",
        "\n",
        "word = 'третій'\n",
        "weight = calculate_tf_idf(word, docs[2], docs)\n",
        "print(f'Вага слова \"{word}\": {weight}')\n",
        "\n",
        "word = 'документ'\n",
        "weight = calculate_tf_idf(word, docs[1], docs)\n",
        "print(f'Вага слова \"{word}\": {weight}')"
      ],
      "metadata": {
        "colab": {
          "base_uri": "https://localhost:8080/"
        },
        "id": "ma8En4X4_wln",
        "outputId": "a8ad0a5f-7774-4dc4-b83d-680bc2ba6e7b"
      },
      "execution_count": 7,
      "outputs": [
        {
          "output_type": "stream",
          "name": "stdout",
          "text": [
            "Вага слова \"третій\": 0.08470725854916317\n",
            "Вага слова \"документ\": 0.0\n"
          ]
        }
      ]
    },
    {
      "cell_type": "markdown",
      "source": [
        "## Дисперсійний метод і метод горизонтальної видимості (HVG)."
      ],
      "metadata": {
        "id": "Bb-5i3q3BEYS"
      }
    },
    {
      "cell_type": "markdown",
      "source": [
        "Дисперсійний метод та метод горизонтальної видимості (HVG) - це інші методи для визначення ваги слів у тексті.\n",
        "\n",
        "Дисперсійний метод використовує відстань між використаними словами в тексті для визначення їх ваги. Слова, які використовуються в тій же послідовності, мають меншу вагу, ніж ті, що використовуються випадково. За допомогою дисперсійного методу можна відфільтрувати зайві слова, які можуть зменшувати точність аналізу тексту.\n",
        "\n",
        "Метод горизонтальної видимості (HVG) використовується для визначення ваги слів на основі того, як часто слова з'являються в тексті, а також на основі того, наскільки відмінними вони є від інших слів в тексті. Ідея полягає в тому, що якщо слово зустрічається дуже часто, то воно не має великої інформаційної цінності, але якщо воно зустрічається рідко, то воно може мати більшу вагу."
      ],
      "metadata": {
        "id": "Y97NxhR-BK1q"
      }
    },
    {
      "cell_type": "code",
      "source": [
        "def dispersion_method(text):\n",
        "    words = text.lower().split()\n",
        "    word_counts = Counter(words)\n",
        "    total_words = len(words)\n",
        "    \n",
        "    # визначення відстані між словами\n",
        "    distances = []\n",
        "    for i in range(total_words-1):\n",
        "        for j in range(i+1, total_words):\n",
        "            if words[i] != words[j]:\n",
        "                distance = abs(i - j)\n",
        "                distances.append(distance)\n",
        "    \n",
        "    # визначення ваги слова\n",
        "    weights = {}\n",
        "    for word, count in word_counts.items():\n",
        "        freq = count / total_words\n",
        "        dispersion = sum([abs(i - j) for i in range(total_words-1) for j in range(i+1, total_words) if words[i]==word and words[j]==word]) / count\n",
        "        weight = freq * math.log10(dispersion + 1)\n",
        "        weights[word] = weight\n",
        "    \n",
        "    return weights"
      ],
      "metadata": {
        "id": "y7TU2pmjBKTj"
      },
      "execution_count": 18,
      "outputs": []
    },
    {
      "cell_type": "code",
      "source": [
        "def hvg_method(text):\n",
        "    words = text.lower().split()\n",
        "    word_counts = Counter(words)\n",
        "    total_words = len(words)\n",
        "    \n",
        "    # визначення кількості входжень слова в текст\n",
        "    freqs = {}\n",
        "    for word, count in word_counts.items():\n",
        "        freq = count / total_words\n",
        "        freqs[word] = freq\n",
        "    \n",
        "    # визначення ваги слова\n",
        "    weights = {}\n",
        "    for word, count in word_counts.items():\n",
        "        freq = freqs[word]\n",
        "        summ = sum([1 for w in word_counts.keys() if w != word and w in word])\n",
        "        distinctiveness = 1 / summ if summ !=0 else 0\n",
        "        weight = freq * math.log10(distinctiveness + 1)\n",
        "        weights[word] = weight\n",
        "    \n",
        "    return weights"
      ],
      "metadata": {
        "id": "R6_ygkzDDZUD"
      },
      "execution_count": 21,
      "outputs": []
    },
    {
      "cell_type": "code",
      "source": [
        "text = \"This is a test text. It contains some words that will be used to demonstrate the dispersion method and the HVG method.\"\n",
        "\n",
        "# Використання дисперсійного методу\n",
        "weights_dispersion = dispersion_method(text)\n",
        "print(\"Ваги слів за допомогою дисперсійного методу:\")\n",
        "for word, weight in weights_dispersion.items():\n",
        "    print(f\"{word}: {weight:.2f}\")\n",
        "\n",
        "text = \"This is a test text. It contains some words that will be used to demonstrate the dispersion method and the HVG method.\"\n",
        "# Використання методу горизонтальної видимості (HVG)\n",
        "weights_hvg = hvg_method(text)\n",
        "print(\"\\nВаги слів за допомогою методу горизонтальної видимості (HVG):\")\n",
        "for word, weight in weights_hvg.items():\n",
        "    print(f\"{word}: {weight:.2f}\")\n"
      ],
      "metadata": {
        "colab": {
          "base_uri": "https://localhost:8080/"
        },
        "id": "N7jGDBwDDc37",
        "outputId": "7cd54545-7c12-4292-cd3f-983e8d78404d"
      },
      "execution_count": 22,
      "outputs": [
        {
          "output_type": "stream",
          "name": "stdout",
          "text": [
            "['this', 'is', 'a', 'test', 'text.', 'it', 'contains', 'some', 'words', 'that', 'will', 'be', 'used', 'to', 'demonstrate', 'the', 'dispersion', 'method', 'and', 'the', 'hvg', 'method.']\n",
            "Ваги слів за допомогою дисперсійного методу:\n",
            "this: 0.00\n",
            "is: 0.00\n",
            "a: 0.00\n",
            "test: 0.00\n",
            "text.: 0.00\n",
            "it: 0.00\n",
            "contains: 0.00\n",
            "some: 0.00\n",
            "words: 0.00\n",
            "that: 0.00\n",
            "will: 0.00\n",
            "be: 0.00\n",
            "used: 0.00\n",
            "to: 0.00\n",
            "demonstrate: 0.00\n",
            "the: 0.04\n",
            "dispersion: 0.00\n",
            "method: 0.00\n",
            "and: 0.00\n",
            "hvg: 0.00\n",
            "method.: 0.00\n",
            "\n",
            "Ваги слів за допомогою методу горизонтальної видимості (HVG):\n",
            "this: 0.01\n",
            "is: 0.00\n",
            "a: 0.00\n",
            "test: 0.00\n",
            "text.: 0.00\n",
            "it: 0.00\n",
            "contains: 0.01\n",
            "some: 0.00\n",
            "words: 0.00\n",
            "that: 0.01\n",
            "will: 0.00\n",
            "be: 0.00\n",
            "used: 0.00\n",
            "to: 0.00\n",
            "demonstrate: 0.01\n",
            "the: 0.00\n",
            "dispersion: 0.01\n",
            "method: 0.00\n",
            "and: 0.01\n",
            "hvg: 0.00\n",
            "method.: 0.01\n"
          ]
        }
      ]
    },
    {
      "cell_type": "markdown",
      "source": [
        "## Матриця суміжності"
      ],
      "metadata": {
        "id": "5C6FKix5IdMt"
      }
    },
    {
      "cell_type": "code",
      "source": [
        "import numpy as np\n",
        "from sklearn.feature_extraction.text import CountVectorizer\n",
        "\n",
        "# список документів\n",
        "documents = [\n",
        "    \"Це перший документ\",\n",
        "    \"Це другий документ\",\n",
        "    \"Це третій документ\",\n",
        "    \"Це четвертий документ\"\n",
        "]\n",
        "\n",
        "# створюємо об'єкт CountVectorizer\n",
        "vectorizer = CountVectorizer()\n",
        "\n",
        "# навчаємо CountVectorizer нашій колекції документів\n",
        "X = vectorizer.fit_transform(documents)\n",
        "\n",
        "# створюємо матрицю суміжності\n",
        "adjacency_matrix = (X.T * X).toarray()\n",
        "\n",
        "# виводимо матрицю суміжності\n",
        "print(adjacency_matrix)"
      ],
      "metadata": {
        "id": "1CDa8vsHIflM",
        "outputId": "a3bedd80-1d83-47a7-a7d6-4942a6e19f7f",
        "colab": {
          "base_uri": "https://localhost:8080/"
        }
      },
      "execution_count": 23,
      "outputs": [
        {
          "output_type": "stream",
          "name": "stdout",
          "text": [
            "[[4 1 1 1 4 1]\n",
            " [1 1 0 0 1 0]\n",
            " [1 0 1 0 1 0]\n",
            " [1 0 0 1 1 0]\n",
            " [4 1 1 1 4 1]\n",
            " [1 0 0 0 1 1]]\n"
          ]
        }
      ]
    }
  ]
}